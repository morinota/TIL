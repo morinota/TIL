{
 "cells": [
  {
   "cell_type": "code",
   "execution_count": 8,
   "metadata": {},
   "outputs": [
    {
     "name": "stdout",
     "output_type": "stream",
     "text": [
      "{'value': 'A'}\n"
     ]
    }
   ],
   "source": [
    "from langchain_core.runnables import RunnableConfig\n",
    "from langgraph.graph import StateGraph\n",
    "from pydantic import BaseModel\n",
    "\n",
    "\n",
    "# 基本的なStateの定義\n",
    "class State(BaseModel):\n",
    "    value: str\n",
    "\n",
    "\n",
    "def node_A(state: State, config: RunnableConfig) -> State:\n",
    "    return State(value=\"A\")\n",
    "\n",
    "\n",
    "# StateGraphの定義\n",
    "graph_builder = StateGraph(State)\n",
    "graph_builder.add_node(node_A)\n",
    "\n",
    "graph_builder.set_entry_point(\"node_A\")\n",
    "\n",
    "graph = graph_builder.compile()\n",
    "\n",
    "print(graph.invoke(State(value=\"\")))\n"
   ]
  },
  {
   "cell_type": "markdown",
   "metadata": {},
   "source": [
    "# Stateの設計戦略\n",
    "\n",
    "- refs:\n",
    "  - [How to define input/output schema for your graph¶](https://langchain-ai.github.io/langgraph/how-tos/input_output_schema/)\n",
    "  - [LangGraphにおけるStateの分割方法](https://zenn.dev/pharmax/articles/a9b9762c2c384e)\n",
    "\n",
    "- LangGraphにおけるStateとは?\n",
    "  - = ワークフロー内の各ノード間で受け渡されるデータ(状態)。\n",
    "  - Stateの設計次第で、アプリケーションの可読性、拡張性、保守性が大きく変わる。\n",
    "- Stateの課題\n",
    "  - 適切に設計しないと、以下のような問題が発生\n",
    "    - すべてのデータを単一のStateに保持すると、Stateが肥大化。\n",
    "    - 不要なデータがノードに渡ると、パフォーマンスが低下。\n",
    "    - どのノードでStateのどのデータが使われているか不明瞭だと、デバッグ困難になり運用コストが増加。\n",
    "    - "
   ]
  },
  {
   "cell_type": "markdown",
   "metadata": {},
   "source": [
    "## Stateを効率的に管理する3種の分割戦略1: InputとOutputの分割\n",
    "\n",
    "- Stateに入力用のデータと出力用のデータが混在すると、どこでどのデータが使われているかがわかりにくい。\n",
    "- `StateGraph`のinput引数とoutput引数を使って、**InputStateとOutputStateを明確に分離できる!**"
   ]
  },
  {
   "cell_type": "code",
   "execution_count": 10,
   "metadata": {},
   "outputs": [
    {
     "name": "stdout",
     "output_type": "stream",
     "text": [
      "{'output_value': 'A + 1'}\n"
     ]
    }
   ],
   "source": [
    "class InputState(BaseModel):\n",
    "    input_value: str\n",
    "\n",
    "\n",
    "class OutputState(BaseModel):\n",
    "    output_value: str\n",
    "\n",
    "\n",
    "class OverallState(InputState, OutputState):\n",
    "    pass\n",
    "\n",
    "\n",
    "graph_builder = StateGraph(\n",
    "    state_schema=OverallState,\n",
    "    input=InputState,\n",
    "    output=OutputState,\n",
    ")\n",
    "\n",
    "\n",
    "def node_A(state: InputState, config: RunnableConfig) -> OutputState:\n",
    "    return OutputState(output_value=f\"A + {state.input_value}\")\n",
    "\n",
    "\n",
    "graph_builder.add_node(node_A)\n",
    "graph_builder.set_entry_point(\"node_A\")\n",
    "\n",
    "# グラフを実行\n",
    "graph = graph_builder.compile()\n",
    "print(graph.invoke(InputState(input_value=\"1\")))"
   ]
  },
  {
   "cell_type": "markdown",
   "metadata": {},
   "source": [
    "## Stateを効率的に管理する3種の分割戦略2: ノード間専用のStateを定義\n",
    "\n",
    "- **特定のノード間でのみ使用するデータをInputやOutputのStateに含めると**、全体のStateが肥大化して管理が難しくなる。\n",
    "- → 「ノード間専用のState」を作成し、適切な範囲でのみ利用する！"
   ]
  },
  {
   "cell_type": "code",
   "execution_count": 11,
   "metadata": {},
   "outputs": [
    {
     "name": "stdout",
     "output_type": "stream",
     "text": [
      "{'output_value': 'B + A + 1'}\n"
     ]
    }
   ],
   "source": [
    "class InputState(BaseModel):\n",
    "    input_value: str\n",
    "\n",
    "\n",
    "class OutputState(BaseModel):\n",
    "    output_value: str\n",
    "\n",
    "\n",
    "class OverallState(InputState, OutputState):\n",
    "    pass\n",
    "\n",
    "\n",
    "# 特定のノード間のみで使う中間State\n",
    "class PrivateState(BaseModel):\n",
    "    private_value: str\n",
    "\n",
    "\n",
    "graph_builder = StateGraph(\n",
    "    state_schema=OverallState,\n",
    "    input=InputState,\n",
    "    output=OutputState,\n",
    ")\n",
    "\n",
    "\n",
    "# PrivateStateを返すノード\n",
    "def node_A(state: InputState, config: RunnableConfig) -> PrivateState:\n",
    "    return PrivateState(private_value=f\"A + {state.input_value}\")\n",
    "\n",
    "\n",
    "# PrivateStateを受け取り、OutputStateを返すノード\n",
    "def node_B(state: PrivateState, config: RunnableConfig) -> OutputState:\n",
    "    return OutputState(output_value=f\"B + {state.private_value}\")\n",
    "\n",
    "\n",
    "graph_builder.add_node(node_A)\n",
    "graph_builder.add_node(node_B)\n",
    "graph_builder.set_entry_point(\"node_A\")\n",
    "graph_builder.add_edge(\"node_A\", \"node_B\")\n",
    "\n",
    "\n",
    "# グラフを実行\n",
    "graph = graph_builder.compile()\n",
    "print(graph.invoke(InputState(input_value=\"1\")))\n"
   ]
  },
  {
   "cell_type": "markdown",
   "metadata": {},
   "source": [
    "## Stateを効率的に管理する3種の分割戦略3: Stateのスキーマを動的に管理\n",
    "\n",
    "- LangGraphは、Stateの受け渡し時に、各ノードが必要なプロパティのみを受け取るようにフィルタリングできる!\n",
    "- これにより、各ノードが必要なデータのみを受け取ることが可能。\n",
    "  - コードの可読性と実行効率を向上できる...!\n",
    "- 内部の動作 (へぇ〜知らなかった...!!:thinking:)\n",
    "  - StateGraphの初期化時に、`state_schema`, `input`, `output`を登録 (内部でそれぞれ個別のスキーマ情報として保持されるらしい...!!)\n",
    "  - ノード追加時 (`add_node`) に、各ノード関数のシグネチャをチェックし、必要なスキーマを登録。\n",
    "  - 実行時(`invoke`)に、登録ずみのスキーマ情報を元に、必要なプロパティのみを抽出してノードに渡してくれる。"
   ]
  },
  {
   "cell_type": "code",
   "execution_count": null,
   "metadata": {},
   "outputs": [],
   "source": []
  }
 ],
 "metadata": {
  "kernelspec": {
   "display_name": "til-ux4RAgS2-py3.12",
   "language": "python",
   "name": "python3"
  },
  "language_info": {
   "codemirror_mode": {
    "name": "ipython",
    "version": 3
   },
   "file_extension": ".py",
   "mimetype": "text/x-python",
   "name": "python",
   "nbconvert_exporter": "python",
   "pygments_lexer": "ipython3",
   "version": "3.12.5"
  }
 },
 "nbformat": 4,
 "nbformat_minor": 2
}
