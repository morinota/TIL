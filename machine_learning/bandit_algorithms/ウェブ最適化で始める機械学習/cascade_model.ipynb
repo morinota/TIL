{
 "cells": [
  {
   "cell_type": "markdown",
   "metadata": {},
   "source": [
    "## 問題設定\n",
    "\n",
    "- アイテム集合 $E = {1, 2, ...,  L}$ が与えられる。\n",
    "- この中からk個のアイテムを選びランキングしたものを $A = {a_1, a_2, ..., a_k}$ とする。これをユーザに表示する検索結果とする。\n",
    "- $\\bar{w}(a_k)$ をアイテム $a_k$ がユーザにとって好みである確率(ここでは誘引確率と呼ぶ)とする。今回の設定ではクリック率。\n",
    "  - あ、じゃあこの誘引確率 $\\bar{w}(a_k)$ って、報酬の条件付き期待値 $E_{p(r|a_k)}[r]$ のことっぽい??:thinking_face:\n",
    "- ユーザの行動がカスケードモデルに従う場合、推薦アイテムリストの $k$ 番目のアイテムがユーザに走査される(i.e. クリックするか否かの判断対象になる...!) 確率は以下のようになる。\n",
    "  - (i.e. 1~k-1番目のアイテムが全てクリックされない、同時確率...!:thinking_face:)\n",
    "\n",
    "$$\n",
    "\\prod_{i=1}^{k-1} (1 - \\bar{w}(a_i))\n",
    "$$\n",
    "\n",
    "- また、1~k番目の推薦アイテムのうち少なくとも1つのアイテムがクリックされる確率は...\n",
    "\n",
    "$$\n",
    "1 - \\prod_{i=1}^{k} (1 - \\bar{w}(a_i))\n",
    "$$\n"
   ]
  },
  {
   "cell_type": "markdown",
   "metadata": {},
   "source": [
    "## CascadeUCB1\n",
    "\n",
    "- UCBをベースとしたランキングタスクに対するcontext-freeなbanditアルゴリズム\n",
    "- 観測されたフィードバックとして、何番目のアイテムがクリックされたかを $C_{t}$ で表す。\n",
    "  - 観測された報酬 $w_{t}(a_k^{(t)}) = \\mathbb{1}(C_{t} = k)$\n",
    "\n",
    "- **Cascade model上にbanditアルゴリズムを適用する際のポイントは、下記の目的関数　$f(A, w)$ を最大化するような推薦アイテムリストを選択すること!**\n",
    "  - (i.e. 1~k番目の推薦アイテムのうち少なくとも1つのアイテムがクリックされる確率だ...!:thinking_face:)\n",
    "\n",
    "$$\n",
    "f(A, w) = 1 - \\prod_{i=1}^{k} (1 - w(a_i))\n",
    "A_{t} = \\arg \\max_{A \\in \\mathcal{A}} f(A, w)\n",
    "$$"
   ]
  },
  {
   "cell_type": "markdown",
   "metadata": {},
   "source": [
    "- CascadeUCB1の場合は、UCBスコアを考慮した $U_{t}(e)$ を用いて、以下のように推薦アイテムリストを選択する。\n",
    "\n",
    "$$\n",
    "U_{t}(e) = \\hat{w}_{t-1}(e) + c_{t-1, T_{t-1}(e)}\n",
    "\\\\\n",
    "c_{t, s} = \\sqrt{\\frac{1.5 \\log(t)}{s}}\n",
    "$$\n",
    "\n",
    "- ここで、\n",
    "  - $\\hat{w}_{t-1}(e)$ は、アイテム $e$ に対する誘引確率の推定値\n",
    "    - 今回の場合は、アイテムeについて観測されたs個の重み(i.e. 即時報酬...!)の標本平均を用いる。\n",
    "  - $T_{t}(e)$ は、アイテム $e$ の走査がステップ $t$ までに観測された関数。\n",
    "- 最終的にフィードバックで更新した $U_t(e)$ を用いて、推薦アイテムリストを選択する。\n",
    "\n",
    "$$\n",
    "A_{t} = \\arg \\max_{A \\in \\mathcal{A}} f(A, U_{t})\n",
    "\\\\\n",
    "= \\arg \\max_{A \\in \\mathcal{A}} (1 - \\prod_{i=1}^{k} (1 - U_{t}(a_i)))\n",
    "$$"
   ]
  },
  {
   "cell_type": "code",
   "execution_count": 2,
   "metadata": {},
   "outputs": [],
   "source": [
    "import math\n",
    "import random\n",
    "from abc import ABC, abstractmethod\n",
    "import pandas as pd\n",
    "import numpy as np\n",
    "from matplotlib import pyplot as plt\n",
    "from scipy.stats import bernoulli\n",
    "from tqdm import tqdm"
   ]
  },
  {
   "cell_type": "code",
   "execution_count": 3,
   "metadata": {},
   "outputs": [],
   "source": [
    "class Agent(ABC):\n",
    "    @abstractmethod\n",
    "    def get_list(self, k: int) -> list[int]:\n",
    "        \"\"\"Agentがユーザに見せるリストを生成する\"\"\"\n",
    "        pass\n",
    "\n",
    "    @abstractmethod\n",
    "    def observe(self, a: list[int], click: int) -> None:\n",
    "        \"\"\"ユーザからのフィードバックを受け取り、パラメータを更新する\"\"\"\n",
    "        pass\n",
    "\n",
    "\n",
    "class Env(ABC):\n",
    "    @abstractmethod\n",
    "    def click(self, A: list[int]) -> int:\n",
    "        \"\"\"C_{t}を返す。もし何もクリックしなかった場合は、-1を返す\"\"\"\n",
    "        pass\n",
    "\n",
    "    @abstractmethod\n",
    "    def weights(self, A: list[int]) -> list[float]:\n",
    "        \"\"\"渡されたリストに基づいて、各アイテムの重みを返す\"\"\"\n",
    "        pass\n",
    "\n",
    "    @abstractmethod\n",
    "    def optimal_weights(self, k: int) -> list[float]:\n",
    "        \"\"\"理想リストの重みを返す\"\"\"\n",
    "        pass"
   ]
  },
  {
   "cell_type": "code",
   "execution_count": 4,
   "metadata": {},
   "outputs": [
    {
     "data": {
      "text/plain": [
       "(array([503.,   0.,   0.,   0.,   0., 112.,   0., 169.,   0., 216.]),\n",
       " array([-1. , -0.6, -0.2,  0.2,  0.6,  1. ,  1.4,  1.8,  2.2,  2.6,  3. ]),\n",
       " <BarContainer object of 10 artists>)"
      ]
     },
     "execution_count": 4,
     "metadata": {},
     "output_type": "execute_result"
    },
    {
     "data": {
      "image/png": "[encoded data removed]",
      "text/plain": [
       "<Figure size 640x480 with 1 Axes>"
      ]
     },
     "metadata": {},
     "output_type": "display_data"
    }
   ],
   "source": [
    "class CascadingModelEnv(Env):\n",
    "    def __init__(self, E: list[float]):\n",
    "        # 初期化時に、すべてのアイテム集合Eのクリック確率 p(e) を受け取る\n",
    "        self.E = E\n",
    "\n",
    "    def click(self, A: list[int]) -> int:\n",
    "        \"\"\"各アイテムのクリック期待値 E_{p(r|e)}[r] を元にサンプリング。クリックがあればそのインデックスを返す\"\"\"\n",
    "        for i, item in enumerate(A):\n",
    "            if self.E[item] > np.random.random():\n",
    "                return i + 1\n",
    "        return -1\n",
    "\n",
    "    def weights(self, A: list[int]) -> list[float]:\n",
    "        return [self.E[i] for i in A]\n",
    "\n",
    "    def optimal_weights(self, k: int) -> list[float]:\n",
    "        return sorted(E, reverse=True)[:k]\n",
    "\n",
    "\n",
    "## test\n",
    "E = [0, 0.1, 0.2, 0.3]\n",
    "env = CascadingModelEnv(E)\n",
    "\n",
    "results = []\n",
    "for i in range(1000):\n",
    "    results.append(env.click([1, 2, 3]))\n",
    "\n",
    "plt.xlabel(\"item_index\")\n",
    "plt.ylabel(\"click_freq\")\n",
    "plt.hist(results)"
   ]
  },
  {
   "cell_type": "code",
   "execution_count": 5,
   "metadata": {},
   "outputs": [],
   "source": [
    "class CascadeUCB1Agent(Agent):\n",
    "    def __init__(self, E: list[float], p: float) -> None:\n",
    "        self.t = 1\n",
    "        self.counts = [1 for _ in range(len(E))]\n",
    "        self.weights = [bernoulli.rvs(p=p) for _ in range(len(E))]\n",
    "\n",
    "    def ucb(self, e: int) -> float:\n",
    "        \"\"\"UCB1アルゴリズムに基づいて、各アイテムのUCBスコアを計算する\"\"\"\n",
    "        return self.weights[e] + math.sqrt(1.5 * math.log(self.t - 1) / self.counts[e])\n",
    "\n",
    "    def get_list(self, k: int) -> list[int]:\n",
    "        \"\"\"k個の推薦アイテムリストを選択\"\"\"\n",
    "        self.t += 1\n",
    "        ucbs = [self.ucb(e) for e in range(len(E))]\n",
    "        # UCBスコアの高い上位k個を選んで推薦アイテムリストとして返す\n",
    "        return sorted(range(len(ucbs)), key=lambda i: ucbs[i], reverse=True)[:k]\n",
    "\n",
    "    def is_click(self, click: int, k: int) -> int:\n",
    "        \"\"\"k番目のアイテムがクリックされたかを判定\"\"\"\n",
    "        return 1 if click == k else 0\n",
    "\n",
    "    def observe(self, a: list[int], click: int) -> None:\n",
    "        \"\"\"ユーザからのフィードバックを受け取り、パラメータを更新する\"\"\"\n",
    "        if click == -1:\n",
    "            # ユーザが何もクリックしなかったとみなし、全アイテムを見たと仮定する\n",
    "            click = len(a)\n",
    "\n",
    "        for i in range(min(len(a), click)):\n",
    "            e = a[i]\n",
    "            before_count = self.counts[e]\n",
    "            self.counts[e] += 1\n",
    "            self.weights[e] = ((before_count * self.weights[e]) + self.is_click(click, i + 1)) / self.counts[e]"
   ]
  },
  {
   "cell_type": "code",
   "execution_count": 6,
   "metadata": {},
   "outputs": [],
   "source": [
    "def f(weights: list[float]) -> float:\n",
    "    \"\"\"f(w) = 1 - (1 - w1)(1 - w2)...(1 - wk)\"\"\"\n",
    "    v = 1\n",
    "    for w in weights:\n",
    "        v *= 1 - w\n",
    "    return 1 - v\n",
    "\n",
    "\n",
    "def regret(optimal_weights: list[float], weights: list[float]) -> float:\n",
    "    \"\"\"即時のregretを計算\"\"\"\n",
    "    return f(optimal_weights) - f(weights)\n"
   ]
  },
  {
   "cell_type": "code",
   "execution_count": 7,
   "metadata": {},
   "outputs": [],
   "source": [
    "def simulate(agent: Agent, env: Env, k: int, steps: int) -> list[float]:\n",
    "    \"\"\"シミュレーションを実行し、累積regretの履歴を返す\"\"\"\n",
    "\n",
    "    optimal_weights = env.optimal_weights(k=k)\n",
    "\n",
    "    cumulative_regret = 0\n",
    "    regret_cumulative_history = []\n",
    "    for i in tqdm(range(steps)):\n",
    "        a = agent.get_list(k=k)\n",
    "        click = env.click(a)\n",
    "        agent.observe(a, click)\n",
    "\n",
    "        setting_weights = env.weights(a)\n",
    "        cumulative_regret += regret(optimal_weights, setting_weights)\n",
    "        regret_cumulative_history.append(cumulative_regret)\n",
    "\n",
    "    return regret_cumulative_history"
   ]
  },
  {
   "cell_type": "code",
   "execution_count": 8,
   "metadata": {},
   "outputs": [
    {
     "name": "stderr",
     "output_type": "stream",
     "text": [
      "100%|██████████| 100000/100000 [00:00<00:00, 188995.19it/s]\n"
     ]
    },
    {
     "data": {
      "text/plain": [
       "[<matplotlib.lines.Line2D at 0x16a295910>]"
      ]
     },
     "execution_count": 8,
     "metadata": {},
     "output_type": "execute_result"
    },
    {
     "data": {
      "image/png": "[encoded data removed]",
      "text/plain": [
       "<Figure size 640x480 with 1 Axes>"
      ]
     },
     "metadata": {},
     "output_type": "display_data"
    }
   ],
   "source": [
    "E = [0.3, 0.2, 0.25, 0.1, 0.1, 0.24, 0.2, 0.1, 0.21, 0.1]\n",
    "env = CascadingModelEnv(E=E)\n",
    "agent = CascadeUCB1Agent(E=E, p=0.2)\n",
    "\n",
    "regret_cumulative_history = simulate(agent=agent, env=env, k=3, steps=100000)\n",
    "\n",
    "plt.xlabel(\"step t\")\n",
    "plt.ylabel(\"Regret\")\n",
    "plt.plot(regret_cumulative_history)"
   ]
  },
  {
   "cell_type": "code",
   "execution_count": null,
   "metadata": {},
   "outputs": [
    {
     "data": {
      "text/html": [
       "<div>\n",
       "<style scoped>\n",
       "    .dataframe tbody tr th:only-of-type {\n",
       "        vertical-align: middle;\n",
       "    }\n",
       "\n",
       "    .dataframe tbody tr th {\n",
       "        vertical-align: top;\n",
       "    }\n",
       "\n",
       "    .dataframe thead th {\n",
       "        text-align: right;\n",
       "    }\n",
       "</style>\n",
       "<table border=\"1\" class=\"dataframe\">\n",
       "  <thead>\n",
       "    <tr style=\"text-align: right;\">\n",
       "      <th></th>\n",
       "      <th>id</th>\n",
       "      <th>weight</th>\n",
       "      <th>feature</th>\n",
       "    </tr>\n",
       "  </thead>\n",
       "  <tbody>\n",
       "    <tr>\n",
       "      <th>0</th>\n",
       "      <td>0</td>\n",
       "      <td>0.238902</td>\n",
       "      <td>[[0], [0], [0], [0], [0], [0], [1], [0], [0], ...</td>\n",
       "    </tr>\n",
       "    <tr>\n",
       "      <th>1</th>\n",
       "      <td>1</td>\n",
       "      <td>0.621864</td>\n",
       "      <td>[[0], [0], [0], [0], [0], [0], [1], [1], [0], ...</td>\n",
       "    </tr>\n",
       "    <tr>\n",
       "      <th>2</th>\n",
       "      <td>2</td>\n",
       "      <td>0.500644</td>\n",
       "      <td>[[0], [0], [0], [0], [0], [0], [1], [1], [1], ...</td>\n",
       "    </tr>\n",
       "    <tr>\n",
       "      <th>3</th>\n",
       "      <td>3</td>\n",
       "      <td>0.242067</td>\n",
       "      <td>[[1], [0], [0], [0], [0], [0], [0], [0], [0], ...</td>\n",
       "    </tr>\n",
       "    <tr>\n",
       "      <th>4</th>\n",
       "      <td>4</td>\n",
       "      <td>0.145878</td>\n",
       "      <td>[[0], [0], [1], [0], [0], [0], [0], [0], [0], ...</td>\n",
       "    </tr>\n",
       "  </tbody>\n",
       "</table>\n",
       "</div>"
      ],
      "text/plain": [
       "   id    weight                                            feature\n",
       "0   0  0.238902  [[0], [0], [0], [0], [0], [0], [1], [0], [0], ...\n",
       "1   1  0.621864  [[0], [0], [0], [0], [0], [0], [1], [1], [0], ...\n",
       "2   2  0.500644  [[0], [0], [0], [0], [0], [0], [1], [1], [1], ...\n",
       "3   3  0.242067  [[1], [0], [0], [0], [0], [0], [0], [0], [0], ...\n",
       "4   4  0.145878  [[0], [0], [1], [0], [0], [0], [0], [0], [0], ..."
      ]
     },
     "execution_count": 11,
     "metadata": {},
     "output_type": "execute_result"
    }
   ],
   "source": [
    "def gen_items(weight_by_tag: dict[str, float], L: int, sigma=0.01) -> pd.DataFrame:\n",
    "    \"\"\"シミュレーション用の記事データを生成する\n",
    "    - 今回はアイテムの特徴量ベクトルを表現するために、技術ブログサイトの記事を推薦する施策を仮定する。\n",
    "    - 各記事には1~3個のタグが付与されており、タグによってクリック期待値 E_{p(r|e)}[r] が変化する。\n",
    "    - タグそれぞれのクリック期待値の線型結合で、各記事のクリック期待値を計算する。\n",
    "    - 各タグのクリック期待値は正規分布からサンプリングする。\n",
    "    Args:\n",
    "        tags: タグと線型結合時の重みの辞書\n",
    "        L: アイテム数\n",
    "        sigma: タグのクリック期待値をサンプリングする際の正規分布の標準偏差\n",
    "    Returns:\n",
    "        pd.DataFrame: 各記事に対する情報を持つDataFrame\n",
    "        - id: 記事ID\n",
    "        - weight: 記事のクリック期待値 E_{p(r|e)}[r]\n",
    "        - feature: 各記事の特徴量ベクトル(タグのmulti-hot encoding)\n",
    "    \"\"\"\n",
    "    tag_ids = list(weight_by_tag.keys())\n",
    "    weights = []\n",
    "    features = []\n",
    "    for i in range(L):\n",
    "        n = random.randint(1, 3)\n",
    "        tag_samples = random.sample(tag_ids, n)\n",
    "\n",
    "        w = 0\n",
    "        one_hot = []\n",
    "        for t in tag_ids:\n",
    "            if t in tag_samples:\n",
    "                w += random.gauss(weight_by_tag[t], sigma)\n",
    "                one_hot.append(1)\n",
    "            else:\n",
    "                one_hot.append(0)\n",
    "\n",
    "        vec = np.array(one_hot)\n",
    "        features.append(vec.reshape(len(vec), 1))\n",
    "        weights.append(w)\n",
    "\n",
    "    df = pd.DataFrame({\"id\": list(range(len(weights))), \"weight\": weights, \"feature\": features})\n",
    "    return df\n",
    "\n",
    "\n",
    "weight_by_tag = {\n",
    "    \"AWS\": 0.03,\n",
    "    \"Docker\": 0.2,\n",
    "    \"Elasticsearch\": 0.15,\n",
    "    \"GCP\": 0.08,\n",
    "    \"Git\": 0.05,\n",
    "    \"NLP\": 0.19,\n",
    "    \"Rust\": 0.23,\n",
    "    \"Scala\": 0.14,\n",
    "    \"機械学習\": 0.15,\n",
    "    \"強化学習\": 0.20,\n",
    "}\n",
    "df = gen_items(weight_by_tag=weight_by_tag, L=10)\n",
    "df.head(5)"
   ]
  },
  {
   "cell_type": "markdown",
   "metadata": {},
   "source": [
    "CascadeLinTSは、結局、腕の選び方は通常のLinTSと同じで、パラメータ更新(i.e. 学習)時に、ユーザの行動がカスケードモデルに従うことを考慮しているだけ、という認識...!:thinking_face:\n",
    "\n",
    "- アイテムごとの誘引確率の推定値を、以下のように定義する\n",
    "\n",
    "$$\n",
    "w(e) := X_{e}^T \\theta\n",
    "$$"
   ]
  },
  {
   "cell_type": "code",
   "execution_count": 13,
   "metadata": {},
   "outputs": [],
   "source": [
    "class CascadeLinTSAgent(Agent):\n",
    "    def __init__(self, d: int, sigma: float, features: pd.DataFrame) -> None:\n",
    "        self.sigma = sigma\n",
    "        self.features = features\n",
    "        self.InvM = np.eye(d)\n",
    "        self.B = np.zeros(d).reshape(d, 1)\n",
    "\n",
    "    def get_list(self, k: int) -> list[int]:\n",
    "        before_theta = (self.sigma**-2) * self.InvM.dot(self.B)\n",
    "        theta = np.random.multivariate_normal(mean=before_theta.ravel(), cov=self.InvM)\n",
    "        weights = self.features[\"feature\"].apply(lambda x: x.T.dot(theta)).to_list()\n",
    "        return sorted(range(len(weights)), key=lambda i: weights[i], reverse=True)[:k]\n",
    "\n",
    "    def is_click(self, click: int, k: int) -> int:\n",
    "        return 1 if click == k else 0\n",
    "\n",
    "    def observe(self, a: list[int], click: int) -> None:\n",
    "        if click == -1:\n",
    "            # ユーザが何もクリックしなかった場合は、1~k番目の全ての推薦アイテムを走査したと仮定する\n",
    "            click = len(a)\n",
    "\n",
    "        for i in range(min(len(a), click)):\n",
    "            e = a[i]\n",
    "            x = self.features[self.features[\"id\"] == e][\"feature\"].to_list()[0]\n",
    "\n",
    "            # 逆行列W^{-1}の更新式\n",
    "            self.InvM = self.InvM - (self.InvM.dot(x).dot(x.T).dot(self.InvM)) / (\n",
    "                x.T.dot(self.InvM).dot(x) + self.sigma**2\n",
    "            )\n",
    "\n",
    "            # パラメータBの更新式\n",
    "            if self.is_click(click, i + 1):\n",
    "                self.B = self.B + x"
   ]
  },
  {
   "cell_type": "code",
   "execution_count": null,
   "metadata": {},
   "outputs": [
    {
     "name": "stderr",
     "output_type": "stream",
     "text": [
      "100%|██████████| 10000/10000 [00:00<00:00, 105064.31it/s]\n",
      " 27%|██▋       | 2738/10000 [00:00<00:02, 3421.70it/s]"
     ]
    }
   ],
   "source": [
    "k = 4\n",
    "L = [16, 256, 3000]\n",
    "steps = 10000\n",
    "\n",
    "weight_by_tag = {\n",
    "    \"AWS\": 0.1,\n",
    "    \"Docker\": 0.2,\n",
    "    \"Elasticsearch\": 0.15,\n",
    "    \"GCP\": 0.08,\n",
    "    \"Git\": 0.05,\n",
    "    \"NLP\": 0.23,\n",
    "    \"Rust\": 0.3,\n",
    "    \"Scala\": 0.18,\n",
    "    \"機械学習\": 0.25,\n",
    "    \"強化学習\": 0.2,\n",
    "}\n",
    "\n",
    "fig = plt.figure(figsize=(13, 4))\n",
    "fig.suptitle(\"The n-steps regret of CascadeUCB1, CascadeLinTS\")\n",
    "\n",
    "for i, l in enumerate(L):\n",
    "    df = gen_items(weight_by_tag=weight_by_tag, L=l)\n",
    "    E = df[\"weight\"].to_list()\n",
    "\n",
    "    env = CascadingModelEnv(E=E)\n",
    "\n",
    "    cascadelints_agent = CascadeLinTSAgent(d=len(weight_by_tag), sigma=1, features=df.drop(\"weight\", axis=1))\n",
    "    cascadeucb_agent = CascadeUCB1Agent(E=E, p=0.2)\n",
    "\n",
    "    cascadeucb1_regret_cumulative_history = simulate(agent=cascadeucb_agent, env=env, k=k, steps=steps)\n",
    "    cascadelints_regret_cumulative_history = simulate(agent=cascadelints_agent, env=env, k=k, steps=steps)\n",
    "\n",
    "    ax = fig.add_subplot(1, 3, i + 1)\n",
    "    ax.set_title(f\"L={l}, k=4\")\n",
    "    ax.plot(cascadeucb1_regret_cumulative_history, label=\"CascadeUCB1\")\n",
    "    ax.plot(cascadelints_regret_cumulative_history, label=\"CascadeLinTS\")\n",
    "    ax.set_xlabel(\"step t\")\n",
    "    ax.set_ylabel(\"cumulative regret\")\n",
    "\n",
    "fig.legend(\n",
    "    [\"CascadeUCB1\", \"CascadeLinTS\"],\n",
    "    loc=\"upper center\",\n",
    "    borderaxespad=0.1,\n",
    "    title=\"Algorithm\",\n",
    "    bbox_to_anchor=(0.5, -0.02),\n",
    "    ncol=2,\n",
    ")\n",
    "fig.tight_layout()\n",
    "plt.show()"
   ]
  },
  {
   "cell_type": "code",
   "execution_count": null,
   "metadata": {},
   "outputs": [],
   "source": []
  }
 ],
 "metadata": {
  "kernelspec": {
   "display_name": "til-ux4RAgS2-py3.12",
   "language": "python",
   "name": "python3"
  },
  "language_info": {
   "codemirror_mode": {
    "name": "ipython",
    "version": 3
   },
   "file_extension": ".py",
   "mimetype": "text/x-python",
   "name": "python",
   "nbconvert_exporter": "python",
   "pygments_lexer": "ipython3",
   "version": "3.12.5"
  }
 },
 "nbformat": 4,
 "nbformat_minor": 2
}
