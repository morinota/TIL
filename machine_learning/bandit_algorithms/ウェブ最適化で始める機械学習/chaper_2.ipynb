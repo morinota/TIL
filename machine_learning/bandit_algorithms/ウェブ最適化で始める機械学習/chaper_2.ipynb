{
 "cells": [
  {
   "cell_type": "code",
   "execution_count": null,
   "metadata": {},
   "outputs": [],
   "source": [
    "import numpy as np\n",
    "import matplotlib.pyplot as plt\n",
    "import pymc as pm\n",
    "\n",
    "n = [434, 382, 394, 88]\n",
    "clicks = [8, 17, 10, 4]\n",
    "with pm.Model() as model:\n",
    "    theta = pm.Uniform(\"theta\", lower=0, upper=1, shape=len(n))\n",
    "    obs = pm.Binomial(\"obs\", n=n, p=theta, observed=clicks)\n",
    "    trace = pm.sample(5000, chains=2)\n",
    "    pm.plot_trace(trace, compact=True)"
   ]
  },
  {
   "cell_type": "code",
   "execution_count": null,
   "metadata": {},
   "outputs": [],
   "source": []
  }
 ],
 "metadata": {
  "kernelspec": {
   "display_name": "til-ux4RAgS2-py3.12",
   "language": "python",
   "name": "python3"
  },
  "language_info": {
   "codemirror_mode": {
    "name": "ipython",
    "version": 3
   },
   "file_extension": ".py",
   "mimetype": "text/x-python",
   "name": "python",
   "nbconvert_exporter": "python",
   "pygments_lexer": "ipython3",
   "version": "3.12.5"
  }
 },
 "nbformat": 4,
 "nbformat_minor": 2
}
